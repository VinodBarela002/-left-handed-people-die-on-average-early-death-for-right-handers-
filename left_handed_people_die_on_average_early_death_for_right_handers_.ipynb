{
  "cells": [
    {
      "cell_type": "markdown",
      "metadata": {
        "id": "V094T0oEIuUU"
      },
      "source": [
        "# Do Left-Handed People Really Die Young?\n",
        "\n",
        "Use pandas and Bayesian statistics to see if the urban legend is true that lefties die earlier than righties.\n"
      ]
    },
    {
      "cell_type": "markdown",
      "metadata": {
        "tags": [
          "@context"
        ],
        "id": "sbvUE7mYIuUe"
      },
      "source": [
        "\n",
        "\n",
        "In This notebook uses two datasets: [death distribution data](https://www.cdc.gov/nchs/data/statab/vs00199_table310.pdf) for the United States from the year 1999 (source website [here](https://www.cdc.gov/nchs/nvss/mortality_tables.htm)) and rates of left-handedness digitized from a figure in this [1992 paper by Gilbert and Wysocki](https://www.ncbi.nlm.nih.gov/pubmed/1528408). "
      ]
    },
    {
      "cell_type": "code",
      "source": [
        "import numpy as np\n",
        "import pandas as pd\n",
        "import numpy as np\n",
        "import matplotlib.pyplot as plt"
      ],
      "metadata": {
        "id": "F8BCBtuqKczu"
      },
      "execution_count": 4,
      "outputs": []
    },
    {
      "cell_type": "code",
      "source": [
        "# load the data\n",
        "lefthanded_data = pd.read_csv(\"left_hand.txt\", sep=\",\")"
      ],
      "metadata": {
        "id": "v6p9WTp6KgKp"
      },
      "execution_count": 5,
      "outputs": []
    },
    {
      "cell_type": "code",
      "source": [
        "lefthanded_data.head()"
      ],
      "metadata": {
        "colab": {
          "base_uri": "https://localhost:8080/",
          "height": 206
        },
        "id": "lnA5kxVRK408",
        "outputId": "693caf84-f1e1-4ffa-85c1-91f6fafb10a6"
      },
      "execution_count": 6,
      "outputs": [
        {
          "output_type": "execute_result",
          "data": {
            "text/plain": [
              "   Age       Male     Female\n",
              "0   10  12.717558  12.198041\n",
              "1   11  15.318830  11.144804\n",
              "2   12  14.808281  11.549240\n",
              "3   13  13.793744  11.276442\n",
              "4   14  15.156304  11.572906"
            ],
            "text/html": [
              "\n",
              "  <div id=\"df-c7e8413e-c0c1-4f48-95bc-3fd5ca5cf1be\">\n",
              "    <div class=\"colab-df-container\">\n",
              "      <div>\n",
              "<style scoped>\n",
              "    .dataframe tbody tr th:only-of-type {\n",
              "        vertical-align: middle;\n",
              "    }\n",
              "\n",
              "    .dataframe tbody tr th {\n",
              "        vertical-align: top;\n",
              "    }\n",
              "\n",
              "    .dataframe thead th {\n",
              "        text-align: right;\n",
              "    }\n",
              "</style>\n",
              "<table border=\"1\" class=\"dataframe\">\n",
              "  <thead>\n",
              "    <tr style=\"text-align: right;\">\n",
              "      <th></th>\n",
              "      <th>Age</th>\n",
              "      <th>Male</th>\n",
              "      <th>Female</th>\n",
              "    </tr>\n",
              "  </thead>\n",
              "  <tbody>\n",
              "    <tr>\n",
              "      <th>0</th>\n",
              "      <td>10</td>\n",
              "      <td>12.717558</td>\n",
              "      <td>12.198041</td>\n",
              "    </tr>\n",
              "    <tr>\n",
              "      <th>1</th>\n",
              "      <td>11</td>\n",
              "      <td>15.318830</td>\n",
              "      <td>11.144804</td>\n",
              "    </tr>\n",
              "    <tr>\n",
              "      <th>2</th>\n",
              "      <td>12</td>\n",
              "      <td>14.808281</td>\n",
              "      <td>11.549240</td>\n",
              "    </tr>\n",
              "    <tr>\n",
              "      <th>3</th>\n",
              "      <td>13</td>\n",
              "      <td>13.793744</td>\n",
              "      <td>11.276442</td>\n",
              "    </tr>\n",
              "    <tr>\n",
              "      <th>4</th>\n",
              "      <td>14</td>\n",
              "      <td>15.156304</td>\n",
              "      <td>11.572906</td>\n",
              "    </tr>\n",
              "  </tbody>\n",
              "</table>\n",
              "</div>\n",
              "      <button class=\"colab-df-convert\" onclick=\"convertToInteractive('df-c7e8413e-c0c1-4f48-95bc-3fd5ca5cf1be')\"\n",
              "              title=\"Convert this dataframe to an interactive table.\"\n",
              "              style=\"display:none;\">\n",
              "        \n",
              "  <svg xmlns=\"http://www.w3.org/2000/svg\" height=\"24px\"viewBox=\"0 0 24 24\"\n",
              "       width=\"24px\">\n",
              "    <path d=\"M0 0h24v24H0V0z\" fill=\"none\"/>\n",
              "    <path d=\"M18.56 5.44l.94 2.06.94-2.06 2.06-.94-2.06-.94-.94-2.06-.94 2.06-2.06.94zm-11 1L8.5 8.5l.94-2.06 2.06-.94-2.06-.94L8.5 2.5l-.94 2.06-2.06.94zm10 10l.94 2.06.94-2.06 2.06-.94-2.06-.94-.94-2.06-.94 2.06-2.06.94z\"/><path d=\"M17.41 7.96l-1.37-1.37c-.4-.4-.92-.59-1.43-.59-.52 0-1.04.2-1.43.59L10.3 9.45l-7.72 7.72c-.78.78-.78 2.05 0 2.83L4 21.41c.39.39.9.59 1.41.59.51 0 1.02-.2 1.41-.59l7.78-7.78 2.81-2.81c.8-.78.8-2.07 0-2.86zM5.41 20L4 18.59l7.72-7.72 1.47 1.35L5.41 20z\"/>\n",
              "  </svg>\n",
              "      </button>\n",
              "      \n",
              "  <style>\n",
              "    .colab-df-container {\n",
              "      display:flex;\n",
              "      flex-wrap:wrap;\n",
              "      gap: 12px;\n",
              "    }\n",
              "\n",
              "    .colab-df-convert {\n",
              "      background-color: #E8F0FE;\n",
              "      border: none;\n",
              "      border-radius: 50%;\n",
              "      cursor: pointer;\n",
              "      display: none;\n",
              "      fill: #1967D2;\n",
              "      height: 32px;\n",
              "      padding: 0 0 0 0;\n",
              "      width: 32px;\n",
              "    }\n",
              "\n",
              "    .colab-df-convert:hover {\n",
              "      background-color: #E2EBFA;\n",
              "      box-shadow: 0px 1px 2px rgba(60, 64, 67, 0.3), 0px 1px 3px 1px rgba(60, 64, 67, 0.15);\n",
              "      fill: #174EA6;\n",
              "    }\n",
              "\n",
              "    [theme=dark] .colab-df-convert {\n",
              "      background-color: #3B4455;\n",
              "      fill: #D2E3FC;\n",
              "    }\n",
              "\n",
              "    [theme=dark] .colab-df-convert:hover {\n",
              "      background-color: #434B5C;\n",
              "      box-shadow: 0px 1px 3px 1px rgba(0, 0, 0, 0.15);\n",
              "      filter: drop-shadow(0px 1px 2px rgba(0, 0, 0, 0.3));\n",
              "      fill: #FFFFFF;\n",
              "    }\n",
              "  </style>\n",
              "\n",
              "      <script>\n",
              "        const buttonEl =\n",
              "          document.querySelector('#df-c7e8413e-c0c1-4f48-95bc-3fd5ca5cf1be button.colab-df-convert');\n",
              "        buttonEl.style.display =\n",
              "          google.colab.kernel.accessAllowed ? 'block' : 'none';\n",
              "\n",
              "        async function convertToInteractive(key) {\n",
              "          const element = document.querySelector('#df-c7e8413e-c0c1-4f48-95bc-3fd5ca5cf1be');\n",
              "          const dataTable =\n",
              "            await google.colab.kernel.invokeFunction('convertToInteractive',\n",
              "                                                     [key], {});\n",
              "          if (!dataTable) return;\n",
              "\n",
              "          const docLinkHtml = 'Like what you see? Visit the ' +\n",
              "            '<a target=\"_blank\" href=https://colab.research.google.com/notebooks/data_table.ipynb>data table notebook</a>'\n",
              "            + ' to learn more about interactive tables.';\n",
              "          element.innerHTML = '';\n",
              "          dataTable['output_type'] = 'display_data';\n",
              "          await google.colab.output.renderOutput(dataTable, element);\n",
              "          const docLink = document.createElement('div');\n",
              "          docLink.innerHTML = docLinkHtml;\n",
              "          element.appendChild(docLink);\n",
              "        }\n",
              "      </script>\n",
              "    </div>\n",
              "  </div>\n",
              "  "
            ]
          },
          "metadata": {},
          "execution_count": 6
        }
      ]
    },
    {
      "cell_type": "code",
      "source": [
        "lefthanded_data.tail()"
      ],
      "metadata": {
        "colab": {
          "base_uri": "https://localhost:8080/",
          "height": 206
        },
        "id": "sXBrTqCNK46L",
        "outputId": "a6eabe29-08f8-4409-b321-a3445ae8300a"
      },
      "execution_count": 7,
      "outputs": [
        {
          "output_type": "execute_result",
          "data": {
            "text/plain": [
              "    Age      Male    Female\n",
              "72   82  7.350204  4.874899\n",
              "73   83  6.471204  5.672536\n",
              "74   84  6.510858  5.774881\n",
              "75   85  7.337968  7.051459\n",
              "76   86  5.059387  4.680948"
            ],
            "text/html": [
              "\n",
              "  <div id=\"df-c496564f-593f-43c1-997d-c82b7b54b39f\">\n",
              "    <div class=\"colab-df-container\">\n",
              "      <div>\n",
              "<style scoped>\n",
              "    .dataframe tbody tr th:only-of-type {\n",
              "        vertical-align: middle;\n",
              "    }\n",
              "\n",
              "    .dataframe tbody tr th {\n",
              "        vertical-align: top;\n",
              "    }\n",
              "\n",
              "    .dataframe thead th {\n",
              "        text-align: right;\n",
              "    }\n",
              "</style>\n",
              "<table border=\"1\" class=\"dataframe\">\n",
              "  <thead>\n",
              "    <tr style=\"text-align: right;\">\n",
              "      <th></th>\n",
              "      <th>Age</th>\n",
              "      <th>Male</th>\n",
              "      <th>Female</th>\n",
              "    </tr>\n",
              "  </thead>\n",
              "  <tbody>\n",
              "    <tr>\n",
              "      <th>72</th>\n",
              "      <td>82</td>\n",
              "      <td>7.350204</td>\n",
              "      <td>4.874899</td>\n",
              "    </tr>\n",
              "    <tr>\n",
              "      <th>73</th>\n",
              "      <td>83</td>\n",
              "      <td>6.471204</td>\n",
              "      <td>5.672536</td>\n",
              "    </tr>\n",
              "    <tr>\n",
              "      <th>74</th>\n",
              "      <td>84</td>\n",
              "      <td>6.510858</td>\n",
              "      <td>5.774881</td>\n",
              "    </tr>\n",
              "    <tr>\n",
              "      <th>75</th>\n",
              "      <td>85</td>\n",
              "      <td>7.337968</td>\n",
              "      <td>7.051459</td>\n",
              "    </tr>\n",
              "    <tr>\n",
              "      <th>76</th>\n",
              "      <td>86</td>\n",
              "      <td>5.059387</td>\n",
              "      <td>4.680948</td>\n",
              "    </tr>\n",
              "  </tbody>\n",
              "</table>\n",
              "</div>\n",
              "      <button class=\"colab-df-convert\" onclick=\"convertToInteractive('df-c496564f-593f-43c1-997d-c82b7b54b39f')\"\n",
              "              title=\"Convert this dataframe to an interactive table.\"\n",
              "              style=\"display:none;\">\n",
              "        \n",
              "  <svg xmlns=\"http://www.w3.org/2000/svg\" height=\"24px\"viewBox=\"0 0 24 24\"\n",
              "       width=\"24px\">\n",
              "    <path d=\"M0 0h24v24H0V0z\" fill=\"none\"/>\n",
              "    <path d=\"M18.56 5.44l.94 2.06.94-2.06 2.06-.94-2.06-.94-.94-2.06-.94 2.06-2.06.94zm-11 1L8.5 8.5l.94-2.06 2.06-.94-2.06-.94L8.5 2.5l-.94 2.06-2.06.94zm10 10l.94 2.06.94-2.06 2.06-.94-2.06-.94-.94-2.06-.94 2.06-2.06.94z\"/><path d=\"M17.41 7.96l-1.37-1.37c-.4-.4-.92-.59-1.43-.59-.52 0-1.04.2-1.43.59L10.3 9.45l-7.72 7.72c-.78.78-.78 2.05 0 2.83L4 21.41c.39.39.9.59 1.41.59.51 0 1.02-.2 1.41-.59l7.78-7.78 2.81-2.81c.8-.78.8-2.07 0-2.86zM5.41 20L4 18.59l7.72-7.72 1.47 1.35L5.41 20z\"/>\n",
              "  </svg>\n",
              "      </button>\n",
              "      \n",
              "  <style>\n",
              "    .colab-df-container {\n",
              "      display:flex;\n",
              "      flex-wrap:wrap;\n",
              "      gap: 12px;\n",
              "    }\n",
              "\n",
              "    .colab-df-convert {\n",
              "      background-color: #E8F0FE;\n",
              "      border: none;\n",
              "      border-radius: 50%;\n",
              "      cursor: pointer;\n",
              "      display: none;\n",
              "      fill: #1967D2;\n",
              "      height: 32px;\n",
              "      padding: 0 0 0 0;\n",
              "      width: 32px;\n",
              "    }\n",
              "\n",
              "    .colab-df-convert:hover {\n",
              "      background-color: #E2EBFA;\n",
              "      box-shadow: 0px 1px 2px rgba(60, 64, 67, 0.3), 0px 1px 3px 1px rgba(60, 64, 67, 0.15);\n",
              "      fill: #174EA6;\n",
              "    }\n",
              "\n",
              "    [theme=dark] .colab-df-convert {\n",
              "      background-color: #3B4455;\n",
              "      fill: #D2E3FC;\n",
              "    }\n",
              "\n",
              "    [theme=dark] .colab-df-convert:hover {\n",
              "      background-color: #434B5C;\n",
              "      box-shadow: 0px 1px 3px 1px rgba(0, 0, 0, 0.15);\n",
              "      filter: drop-shadow(0px 1px 2px rgba(0, 0, 0, 0.3));\n",
              "      fill: #FFFFFF;\n",
              "    }\n",
              "  </style>\n",
              "\n",
              "      <script>\n",
              "        const buttonEl =\n",
              "          document.querySelector('#df-c496564f-593f-43c1-997d-c82b7b54b39f button.colab-df-convert');\n",
              "        buttonEl.style.display =\n",
              "          google.colab.kernel.accessAllowed ? 'block' : 'none';\n",
              "\n",
              "        async function convertToInteractive(key) {\n",
              "          const element = document.querySelector('#df-c496564f-593f-43c1-997d-c82b7b54b39f');\n",
              "          const dataTable =\n",
              "            await google.colab.kernel.invokeFunction('convertToInteractive',\n",
              "                                                     [key], {});\n",
              "          if (!dataTable) return;\n",
              "\n",
              "          const docLinkHtml = 'Like what you see? Visit the ' +\n",
              "            '<a target=\"_blank\" href=https://colab.research.google.com/notebooks/data_table.ipynb>data table notebook</a>'\n",
              "            + ' to learn more about interactive tables.';\n",
              "          element.innerHTML = '';\n",
              "          dataTable['output_type'] = 'display_data';\n",
              "          await google.colab.output.renderOutput(dataTable, element);\n",
              "          const docLink = document.createElement('div');\n",
              "          docLink.innerHTML = docLinkHtml;\n",
              "          element.appendChild(docLink);\n",
              "        }\n",
              "      </script>\n",
              "    </div>\n",
              "  </div>\n",
              "  "
            ]
          },
          "metadata": {},
          "execution_count": 7
        }
      ]
    },
    {
      "cell_type": "code",
      "source": [
        "lefthanded_data.shape"
      ],
      "metadata": {
        "colab": {
          "base_uri": "https://localhost:8080/"
        },
        "id": "yDZVAYfvK4-f",
        "outputId": "314f26a5-42bd-4695-d3f0-aa2557ab2c0a"
      },
      "execution_count": 8,
      "outputs": [
        {
          "output_type": "execute_result",
          "data": {
            "text/plain": [
              "(77, 3)"
            ]
          },
          "metadata": {},
          "execution_count": 8
        }
      ]
    },
    {
      "cell_type": "code",
      "source": [
        "lefthanded_data.isna().sum()"
      ],
      "metadata": {
        "colab": {
          "base_uri": "https://localhost:8080/"
        },
        "id": "mxHum5juLARf",
        "outputId": "09533f80-890e-49a3-bc0c-bcf3ef348735"
      },
      "execution_count": 9,
      "outputs": [
        {
          "output_type": "execute_result",
          "data": {
            "text/plain": [
              "Age       0\n",
              "Male      0\n",
              "Female    0\n",
              "dtype: int64"
            ]
          },
          "metadata": {},
          "execution_count": 9
        }
      ]
    },
    {
      "cell_type": "markdown",
      "source": [
        "**plot male and female left-handedness rates vs. age**\n"
      ],
      "metadata": {
        "id": "DUsKgZBnLJKI"
      }
    },
    {
      "cell_type": "code",
      "execution_count": 10,
      "metadata": {
        "tags": [
          "@solution"
        ],
        "colab": {
          "base_uri": "https://localhost:8080/",
          "height": 299
        },
        "id": "JpKBHPVGIuUk",
        "outputId": "94809e3d-d75d-4fb1-86ec-9decf7a5c76d"
      },
      "outputs": [
        {
          "output_type": "execute_result",
          "data": {
            "text/plain": [
              "Text(0, 0.5, 'Percentage of people who are left-handed')"
            ]
          },
          "metadata": {},
          "execution_count": 10
        },
        {
          "output_type": "display_data",
          "data": {
            "text/plain": [
              "<Figure size 432x288 with 1 Axes>"
            ],
            "image/png": "[encoded data removed]"
          },
          "metadata": {
            "needs_background": "light"
          }
        }
      ],
      "source": [
        "%matplotlib inline\n",
        "fig, ax = plt.subplots() # create figure and axis objects\n",
        "ax.plot('Age', 'Female', data = lefthanded_data, marker='o') # plot \"Female\" vs. \"Age\"\n",
        "ax.plot('Age', 'Male', data = lefthanded_data, marker = 'x') # plot \"Male\" vs. \"Age\"\n",
        "ax.legend() # add a legend\n",
        "ax.set_xlabel(\"Age\")\n",
        "ax.set_ylabel(\"Percentage of people who are left-handed\")"
      ]
    },
    {
      "cell_type": "markdown",
      "metadata": {
        "tags": [
          "@instructions"
        ],
        "id": "aX_ihnkIIuUo"
      },
      "source": [
        "Add two new columns, one for birth year and one for mean left-handedness, then plot the mean as a function of birth year.\n",
        "- Create a column in `lefthanded_data` called `Birth_year`, which is equal to 1986 - `Age` (since the study was done in 1986).\n",
        "- Create a column in `lefthanded_data` called `Mean_lh` which is equal to the mean of the `Male` and `Female` columns.\n",
        "- Use the `.plot()` method to plot `Mean_lh` vs. `Birth_year`.\n",
        "\n"
      ]
    },
    {
      "cell_type": "code",
      "source": [
        "# create a new column for birth year of each age\n",
        "lefthanded_data['Birth_year'] = 1986 - lefthanded_data['Age'] # the study was done in 1986\n",
        "\n",
        "# create a new column for the average of male and female\n",
        "lefthanded_data['Mean_lh'] = lefthanded_data[['Female', 'Male']].mean(axis = 1)"
      ],
      "metadata": {
        "id": "gpc7rbBFMET4"
      },
      "execution_count": 11,
      "outputs": []
    },
    {
      "cell_type": "code",
      "execution_count": 12,
      "metadata": {
        "tags": [
          "@solution"
        ],
        "colab": {
          "base_uri": "https://localhost:8080/",
          "height": 296
        },
        "id": "rHktY9zhIuUq",
        "outputId": "5df8c252-a69e-4996-cfe4-6d1d4e6bbd84"
      },
      "outputs": [
        {
          "output_type": "execute_result",
          "data": {
            "text/plain": [
              "Text(0, 0.5, 'Percentage left-handed')"
            ]
          },
          "metadata": {},
          "execution_count": 12
        },
        {
          "output_type": "display_data",
          "data": {
            "text/plain": [
              "<Figure size 432x288 with 1 Axes>"
            ],
            "image/png": "[encoded data removed]"
          },
          "metadata": {
            "needs_background": "light"
          }
        }
      ],
      "source": [
        "# create a plot of 'Mean_lh' vs. 'Birth_year'\n",
        "fig, ax = plt.subplots()\n",
        "ax.plot('Birth_year', 'Mean_lh', data = lefthanded_data)\n",
        "ax.set_xlabel(\"Year of birth\")\n",
        "ax.set_ylabel(\"Percentage left-handed\")"
      ]
    },
    {
      "cell_type": "markdown",
      "metadata": {
        "tags": [
          "type:NotebookTask"
        ],
        "id": "j4B_x2omIuUs"
      },
      "source": [
        "## Applying Bayes' rule"
      ]
    },
    {
      "cell_type": "markdown",
      "metadata": {
        "tags": [
          "@context"
        ],
        "id": "-efmiof4IuUs"
      },
      "source": [
        "We want to calculate the probability of dying at age A given that you're left-handed. Let's write this in shorthand as P(A | LH). We also want the same quantity for right-handers: P(A | RH). \n",
        "\n",
        "Here's Bayes' theorem for the two events we care about: left-handedness (LH) and dying at age A.\n",
        "\n",
        "$$P(A | LH) = \\frac{P(LH|A) P(A)}{P(LH)}$$\n",
        "\n",
        "<code>P(LH | A)</code> is the probability that you are left-handed given that you died at age A. \n",
        "\n",
        "<code>P(A)</code> is the overall probability of dying at age A, \n",
        "\n",
        "and <code>P(LH)</code> is the overall probability of being left-handed. We will now calculate each of these three quantities, beginning with P(LH | A).\n",
        "\n",
        " "
      ]
    },
    {
      "cell_type": "code",
      "execution_count": 13,
      "metadata": {
        "tags": [
          "@solution"
        ],
        "id": "zc7tU4o_IuUv"
      },
      "outputs": [],
      "source": [
        "# create a function for P(LH | A)\n",
        "def P_lh_given_A(ages_of_death, study_year = 1990):\n",
        "    \n",
        "    # Use the mean of the 10 neighbouring points for rates before and after the start \n",
        "    early_1900s_rate = lefthanded_data['Mean_lh'][-10:].mean()\n",
        "    late_1900s_rate = lefthanded_data['Mean_lh'][:10].mean()\n",
        "    middle_rates = lefthanded_data.loc[lefthanded_data['Birth_year'].isin(study_year - ages_of_death)]['Mean_lh']\n",
        "    \n",
        "    youngest_age = study_year - 1986 + 10 # the youngest age in the NatGeo dataset is 10\n",
        "    oldest_age = study_year - 1986 + 86 # the oldest age in the NatGeo dataset is 86\n",
        "    \n",
        "    P_return = np.zeros(ages_of_death.shape)  # create an empty array to store the results\n",
        "    \n",
        "    # extract rate of left-handedness for people of age age_of_death\n",
        "    P_return[ages_of_death > oldest_age] = early_1900s_rate / 100\n",
        "    P_return[ages_of_death < youngest_age] = late_1900s_rate / 100\n",
        "    P_return[np.logical_and((ages_of_death <= oldest_age), (ages_of_death >= youngest_age))] = middle_rates / 100\n",
        " \n",
        "    return P_return"
      ]
    },
    {
      "cell_type": "markdown",
      "metadata": {
        "tags": [
          "type:NotebookTask"
        ],
        "id": "Dcxb00TfIuUx"
      },
      "source": [
        "## When do people normally die?"
      ]
    },
    {
      "cell_type": "markdown",
      "source": [
        "we'll load in the death distribution data and plot it. The first column is the age, and the other columns are the number of people who died at that age."
      ],
      "metadata": {
        "id": "6lBaYlTeOend"
      }
    },
    {
      "cell_type": "markdown",
      "metadata": {
        "tags": [
          "@instructions"
        ],
        "id": "XUsZhOkFIuUz"
      },
      "source": [
        "Load death distribution data for the United States and plot it.\n",
        "- Drop the NaN values from the `Both Sexes` column.\n",
        "- Use the `.plot()` method to plot the number of people who died as a function of their age.\n",
        "\n"
      ]
    },
    {
      "cell_type": "markdown",
      "source": [
        "**load death distribution data**\n"
      ],
      "metadata": {
        "id": "na3GUnCbPOSI"
      }
    },
    {
      "cell_type": "code",
      "source": [
        "# load death distribution data\n",
        "death_distribution_data = pd.read_csv('/content/DEATHS_BY_SINGLE_YEARS_OF_AGE.txt', sep='\\t', skiprows=[1])"
      ],
      "metadata": {
        "id": "R-fVXr1zO0Qr"
      },
      "execution_count": 14,
      "outputs": []
    },
    {
      "cell_type": "code",
      "source": [
        "death_distribution_data.tail()"
      ],
      "metadata": {
        "colab": {
          "base_uri": "https://localhost:8080/",
          "height": 206
        },
        "id": "lBzxIGpbPr18",
        "outputId": "6706dbff-7ee9-4e71-c256-8b86ade6c64f"
      },
      "execution_count": 15,
      "outputs": [
        {
          "output_type": "execute_result",
          "data": {
            "text/plain": [
              "     Age  Both Sexes  Male  Female\n",
              "120  120         1.0   NaN     1.0\n",
              "121  121         NaN   NaN     NaN\n",
              "122  122         NaN   NaN     NaN\n",
              "123  123         NaN   NaN     NaN\n",
              "124  124         NaN   NaN     NaN"
            ],
            "text/html": [
              "\n",
              "  <div id=\"df-54ec66ec-b9b7-45b5-86f2-3e34c799b260\">\n",
              "    <div class=\"colab-df-container\">\n",
              "      <div>\n",
              "<style scoped>\n",
              "    .dataframe tbody tr th:only-of-type {\n",
              "        vertical-align: middle;\n",
              "    }\n",
              "\n",
              "    .dataframe tbody tr th {\n",
              "        vertical-align: top;\n",
              "    }\n",
              "\n",
              "    .dataframe thead th {\n",
              "        text-align: right;\n",
              "    }\n",
              "</style>\n",
              "<table border=\"1\" class=\"dataframe\">\n",
              "  <thead>\n",
              "    <tr style=\"text-align: right;\">\n",
              "      <th></th>\n",
              "      <th>Age</th>\n",
              "      <th>Both Sexes</th>\n",
              "      <th>Male</th>\n",
              "      <th>Female</th>\n",
              "    </tr>\n",
              "  </thead>\n",
              "  <tbody>\n",
              "    <tr>\n",
              "      <th>120</th>\n",
              "      <td>120</td>\n",
              "      <td>1.0</td>\n",
              "      <td>NaN</td>\n",
              "      <td>1.0</td>\n",
              "    </tr>\n",
              "    <tr>\n",
              "      <th>121</th>\n",
              "      <td>121</td>\n",
              "      <td>NaN</td>\n",
              "      <td>NaN</td>\n",
              "      <td>NaN</td>\n",
              "    </tr>\n",
              "    <tr>\n",
              "      <th>122</th>\n",
              "      <td>122</td>\n",
              "      <td>NaN</td>\n",
              "      <td>NaN</td>\n",
              "      <td>NaN</td>\n",
              "    </tr>\n",
              "    <tr>\n",
              "      <th>123</th>\n",
              "      <td>123</td>\n",
              "      <td>NaN</td>\n",
              "      <td>NaN</td>\n",
              "      <td>NaN</td>\n",
              "    </tr>\n",
              "    <tr>\n",
              "      <th>124</th>\n",
              "      <td>124</td>\n",
              "      <td>NaN</td>\n",
              "      <td>NaN</td>\n",
              "      <td>NaN</td>\n",
              "    </tr>\n",
              "  </tbody>\n",
              "</table>\n",
              "</div>\n",
              "      <button class=\"colab-df-convert\" onclick=\"convertToInteractive('df-54ec66ec-b9b7-45b5-86f2-3e34c799b260')\"\n",
              "              title=\"Convert this dataframe to an interactive table.\"\n",
              "              style=\"display:none;\">\n",
              "        \n",
              "  <svg xmlns=\"http://www.w3.org/2000/svg\" height=\"24px\"viewBox=\"0 0 24 24\"\n",
              "       width=\"24px\">\n",
              "    <path d=\"M0 0h24v24H0V0z\" fill=\"none\"/>\n",
              "    <path d=\"M18.56 5.44l.94 2.06.94-2.06 2.06-.94-2.06-.94-.94-2.06-.94 2.06-2.06.94zm-11 1L8.5 8.5l.94-2.06 2.06-.94-2.06-.94L8.5 2.5l-.94 2.06-2.06.94zm10 10l.94 2.06.94-2.06 2.06-.94-2.06-.94-.94-2.06-.94 2.06-2.06.94z\"/><path d=\"M17.41 7.96l-1.37-1.37c-.4-.4-.92-.59-1.43-.59-.52 0-1.04.2-1.43.59L10.3 9.45l-7.72 7.72c-.78.78-.78 2.05 0 2.83L4 21.41c.39.39.9.59 1.41.59.51 0 1.02-.2 1.41-.59l7.78-7.78 2.81-2.81c.8-.78.8-2.07 0-2.86zM5.41 20L4 18.59l7.72-7.72 1.47 1.35L5.41 20z\"/>\n",
              "  </svg>\n",
              "      </button>\n",
              "      \n",
              "  <style>\n",
              "    .colab-df-container {\n",
              "      display:flex;\n",
              "      flex-wrap:wrap;\n",
              "      gap: 12px;\n",
              "    }\n",
              "\n",
              "    .colab-df-convert {\n",
              "      background-color: #E8F0FE;\n",
              "      border: none;\n",
              "      border-radius: 50%;\n",
              "      cursor: pointer;\n",
              "      display: none;\n",
              "      fill: #1967D2;\n",
              "      height: 32px;\n",
              "      padding: 0 0 0 0;\n",
              "      width: 32px;\n",
              "    }\n",
              "\n",
              "    .colab-df-convert:hover {\n",
              "      background-color: #E2EBFA;\n",
              "      box-shadow: 0px 1px 2px rgba(60, 64, 67, 0.3), 0px 1px 3px 1px rgba(60, 64, 67, 0.15);\n",
              "      fill: #174EA6;\n",
              "    }\n",
              "\n",
              "    [theme=dark] .colab-df-convert {\n",
              "      background-color: #3B4455;\n",
              "      fill: #D2E3FC;\n",
              "    }\n",
              "\n",
              "    [theme=dark] .colab-df-convert:hover {\n",
              "      background-color: #434B5C;\n",
              "      box-shadow: 0px 1px 3px 1px rgba(0, 0, 0, 0.15);\n",
              "      filter: drop-shadow(0px 1px 2px rgba(0, 0, 0, 0.3));\n",
              "      fill: #FFFFFF;\n",
              "    }\n",
              "  </style>\n",
              "\n",
              "      <script>\n",
              "        const buttonEl =\n",
              "          document.querySelector('#df-54ec66ec-b9b7-45b5-86f2-3e34c799b260 button.colab-df-convert');\n",
              "        buttonEl.style.display =\n",
              "          google.colab.kernel.accessAllowed ? 'block' : 'none';\n",
              "\n",
              "        async function convertToInteractive(key) {\n",
              "          const element = document.querySelector('#df-54ec66ec-b9b7-45b5-86f2-3e34c799b260');\n",
              "          const dataTable =\n",
              "            await google.colab.kernel.invokeFunction('convertToInteractive',\n",
              "                                                     [key], {});\n",
              "          if (!dataTable) return;\n",
              "\n",
              "          const docLinkHtml = 'Like what you see? Visit the ' +\n",
              "            '<a target=\"_blank\" href=https://colab.research.google.com/notebooks/data_table.ipynb>data table notebook</a>'\n",
              "            + ' to learn more about interactive tables.';\n",
              "          element.innerHTML = '';\n",
              "          dataTable['output_type'] = 'display_data';\n",
              "          await google.colab.output.renderOutput(dataTable, element);\n",
              "          const docLink = document.createElement('div');\n",
              "          docLink.innerHTML = docLinkHtml;\n",
              "          element.appendChild(docLink);\n",
              "        }\n",
              "      </script>\n",
              "    </div>\n",
              "  </div>\n",
              "  "
            ]
          },
          "metadata": {},
          "execution_count": 15
        }
      ]
    },
    {
      "cell_type": "markdown",
      "source": [
        "**Drop the NaN values from the Both Sexes column.**\n"
      ],
      "metadata": {
        "id": "jGmd85AePjmx"
      }
    },
    {
      "cell_type": "code",
      "source": [
        "death_distribution_data = death_distribution_data.dropna(subset = [\"Both Sexes\"]) # drop NaN from'Both Sexes' column"
      ],
      "metadata": {
        "id": "TuN3xATCPikr"
      },
      "execution_count": 16,
      "outputs": []
    },
    {
      "cell_type": "code",
      "source": [
        "death_distribution_data.tail()"
      ],
      "metadata": {
        "colab": {
          "base_uri": "https://localhost:8080/",
          "height": 206
        },
        "id": "BPZWSkJIPw_R",
        "outputId": "8d9421e4-f8f7-4bb1-dba3-9f397454b62e"
      },
      "execution_count": 17,
      "outputs": [
        {
          "output_type": "execute_result",
          "data": {
            "text/plain": [
              "     Age  Both Sexes  Male  Female\n",
              "115  115         3.0   NaN     3.0\n",
              "117  117         3.0   2.0     1.0\n",
              "118  118         1.0   NaN     1.0\n",
              "119  119         2.0   NaN     2.0\n",
              "120  120         1.0   NaN     1.0"
            ],
            "text/html": [
              "\n",
              "  <div id=\"df-46f78b7c-d8b0-4bae-91f7-a6ebd8053db5\">\n",
              "    <div class=\"colab-df-container\">\n",
              "      <div>\n",
              "<style scoped>\n",
              "    .dataframe tbody tr th:only-of-type {\n",
              "        vertical-align: middle;\n",
              "    }\n",
              "\n",
              "    .dataframe tbody tr th {\n",
              "        vertical-align: top;\n",
              "    }\n",
              "\n",
              "    .dataframe thead th {\n",
              "        text-align: right;\n",
              "    }\n",
              "</style>\n",
              "<table border=\"1\" class=\"dataframe\">\n",
              "  <thead>\n",
              "    <tr style=\"text-align: right;\">\n",
              "      <th></th>\n",
              "      <th>Age</th>\n",
              "      <th>Both Sexes</th>\n",
              "      <th>Male</th>\n",
              "      <th>Female</th>\n",
              "    </tr>\n",
              "  </thead>\n",
              "  <tbody>\n",
              "    <tr>\n",
              "      <th>115</th>\n",
              "      <td>115</td>\n",
              "      <td>3.0</td>\n",
              "      <td>NaN</td>\n",
              "      <td>3.0</td>\n",
              "    </tr>\n",
              "    <tr>\n",
              "      <th>117</th>\n",
              "      <td>117</td>\n",
              "      <td>3.0</td>\n",
              "      <td>2.0</td>\n",
              "      <td>1.0</td>\n",
              "    </tr>\n",
              "    <tr>\n",
              "      <th>118</th>\n",
              "      <td>118</td>\n",
              "      <td>1.0</td>\n",
              "      <td>NaN</td>\n",
              "      <td>1.0</td>\n",
              "    </tr>\n",
              "    <tr>\n",
              "      <th>119</th>\n",
              "      <td>119</td>\n",
              "      <td>2.0</td>\n",
              "      <td>NaN</td>\n",
              "      <td>2.0</td>\n",
              "    </tr>\n",
              "    <tr>\n",
              "      <th>120</th>\n",
              "      <td>120</td>\n",
              "      <td>1.0</td>\n",
              "      <td>NaN</td>\n",
              "      <td>1.0</td>\n",
              "    </tr>\n",
              "  </tbody>\n",
              "</table>\n",
              "</div>\n",
              "      <button class=\"colab-df-convert\" onclick=\"convertToInteractive('df-46f78b7c-d8b0-4bae-91f7-a6ebd8053db5')\"\n",
              "              title=\"Convert this dataframe to an interactive table.\"\n",
              "              style=\"display:none;\">\n",
              "        \n",
              "  <svg xmlns=\"http://www.w3.org/2000/svg\" height=\"24px\"viewBox=\"0 0 24 24\"\n",
              "       width=\"24px\">\n",
              "    <path d=\"M0 0h24v24H0V0z\" fill=\"none\"/>\n",
              "    <path d=\"M18.56 5.44l.94 2.06.94-2.06 2.06-.94-2.06-.94-.94-2.06-.94 2.06-2.06.94zm-11 1L8.5 8.5l.94-2.06 2.06-.94-2.06-.94L8.5 2.5l-.94 2.06-2.06.94zm10 10l.94 2.06.94-2.06 2.06-.94-2.06-.94-.94-2.06-.94 2.06-2.06.94z\"/><path d=\"M17.41 7.96l-1.37-1.37c-.4-.4-.92-.59-1.43-.59-.52 0-1.04.2-1.43.59L10.3 9.45l-7.72 7.72c-.78.78-.78 2.05 0 2.83L4 21.41c.39.39.9.59 1.41.59.51 0 1.02-.2 1.41-.59l7.78-7.78 2.81-2.81c.8-.78.8-2.07 0-2.86zM5.41 20L4 18.59l7.72-7.72 1.47 1.35L5.41 20z\"/>\n",
              "  </svg>\n",
              "      </button>\n",
              "      \n",
              "  <style>\n",
              "    .colab-df-container {\n",
              "      display:flex;\n",
              "      flex-wrap:wrap;\n",
              "      gap: 12px;\n",
              "    }\n",
              "\n",
              "    .colab-df-convert {\n",
              "      background-color: #E8F0FE;\n",
              "      border: none;\n",
              "      border-radius: 50%;\n",
              "      cursor: pointer;\n",
              "      display: none;\n",
              "      fill: #1967D2;\n",
              "      height: 32px;\n",
              "      padding: 0 0 0 0;\n",
              "      width: 32px;\n",
              "    }\n",
              "\n",
              "    .colab-df-convert:hover {\n",
              "      background-color: #E2EBFA;\n",
              "      box-shadow: 0px 1px 2px rgba(60, 64, 67, 0.3), 0px 1px 3px 1px rgba(60, 64, 67, 0.15);\n",
              "      fill: #174EA6;\n",
              "    }\n",
              "\n",
              "    [theme=dark] .colab-df-convert {\n",
              "      background-color: #3B4455;\n",
              "      fill: #D2E3FC;\n",
              "    }\n",
              "\n",
              "    [theme=dark] .colab-df-convert:hover {\n",
              "      background-color: #434B5C;\n",
              "      box-shadow: 0px 1px 3px 1px rgba(0, 0, 0, 0.15);\n",
              "      filter: drop-shadow(0px 1px 2px rgba(0, 0, 0, 0.3));\n",
              "      fill: #FFFFFF;\n",
              "    }\n",
              "  </style>\n",
              "\n",
              "      <script>\n",
              "        const buttonEl =\n",
              "          document.querySelector('#df-46f78b7c-d8b0-4bae-91f7-a6ebd8053db5 button.colab-df-convert');\n",
              "        buttonEl.style.display =\n",
              "          google.colab.kernel.accessAllowed ? 'block' : 'none';\n",
              "\n",
              "        async function convertToInteractive(key) {\n",
              "          const element = document.querySelector('#df-46f78b7c-d8b0-4bae-91f7-a6ebd8053db5');\n",
              "          const dataTable =\n",
              "            await google.colab.kernel.invokeFunction('convertToInteractive',\n",
              "                                                     [key], {});\n",
              "          if (!dataTable) return;\n",
              "\n",
              "          const docLinkHtml = 'Like what you see? Visit the ' +\n",
              "            '<a target=\"_blank\" href=https://colab.research.google.com/notebooks/data_table.ipynb>data table notebook</a>'\n",
              "            + ' to learn more about interactive tables.';\n",
              "          element.innerHTML = '';\n",
              "          dataTable['output_type'] = 'display_data';\n",
              "          await google.colab.output.renderOutput(dataTable, element);\n",
              "          const docLink = document.createElement('div');\n",
              "          docLink.innerHTML = docLinkHtml;\n",
              "          element.appendChild(docLink);\n",
              "        }\n",
              "      </script>\n",
              "    </div>\n",
              "  </div>\n",
              "  "
            ]
          },
          "metadata": {},
          "execution_count": 17
        }
      ]
    },
    {
      "cell_type": "markdown",
      "source": [
        "**plot number of people who died as a function of age**\n"
      ],
      "metadata": {
        "id": "Tdf955jQP2Sk"
      }
    },
    {
      "cell_type": "code",
      "execution_count": 18,
      "metadata": {
        "tags": [
          "@solution"
        ],
        "colab": {
          "base_uri": "https://localhost:8080/",
          "height": 296
        },
        "id": "a2qz9L9bIuU0",
        "outputId": "e02be3fe-4230-47d5-a263-052c8580de73"
      },
      "outputs": [
        {
          "output_type": "execute_result",
          "data": {
            "text/plain": [
              "Text(0, 0.5, 'Number of people who died')"
            ]
          },
          "metadata": {},
          "execution_count": 18
        },
        {
          "output_type": "display_data",
          "data": {
            "text/plain": [
              "<Figure size 432x288 with 1 Axes>"
            ],
            "image/png": "[encoded data removed]"
          },
          "metadata": {
            "needs_background": "light"
          }
        }
      ],
      "source": [
        "fig, ax = plt.subplots()\n",
        "ax.plot('Age', 'Both Sexes', data = death_distribution_data, marker='o')\n",
        "ax.set_xlabel(\"Age\")\n",
        "ax.set_ylabel(\"Number of people who died\")"
      ]
    },
    {
      "cell_type": "markdown",
      "metadata": {
        "tags": [
          "type:NotebookTask"
        ],
        "id": "8lEKyZRdIuU2"
      },
      "source": [
        "## The overall probability of left-handedness"
      ]
    },
    {
      "cell_type": "markdown",
      "metadata": {
        "tags": [
          "@context"
        ],
        "id": "42vhCh9gIuU2"
      },
      "source": [
        "In the previous code block we loaded data to give us P(A), and now we need P(LH). P(LH) is the probability that a person who died in our particular study year is left-handed, assuming we know nothing else about them. This is the average left-handedness in the population of deceased people, and we can calculate it by summing up all of the left-handedness probabilities for each age, weighted with the number of deceased people at each age, then divided by the total number of deceased people to get a probability. In equation form, this is what we're calculating, where N(A) is the number of people who died at age A (given by the dataframe `death_distribution_data`):\n",
        "\n",
        "\n",
        "< $$P(LH) = \\frac{\\sum_{\\text{A}} P(LH | A) N(A)}{\\sum_{\\text{A}} N(A)}$$ "
      ]
    },
    {
      "cell_type": "markdown",
      "metadata": {
        "tags": [
          "@instructions"
        ],
        "id": "HNoszBQMIuU3"
      },
      "source": [
        "Create a function called `P_lh()` which calculates the overall probability of left-handedness in the population for a given study year.\n",
        "- Create a series, `p_list`, by multiplying the number of dead people in the `Both Sexes` column with the probability of their being lefthanded using `P_lh_given_A()`. \n",
        "- Set the variable `p` equal to the sum of that series.\n",
        "- Divide `p` by the total number of dead people by summing `death_distribution_data` over the `Both Sexes` column. Return result from the function.\n",
        "\n",
        "<hr>\n",
        "\n",
        "N(A) is the value of `Both Sexes` in the `death_distribution_data` DataFrame where the `Age` column is equal to A. The denominator is total number of dead people, which you can get by summing over the entire dataframe in the `Both Sexes` column. \n",
        "\n"
      ]
    },
    {
      "cell_type": "code",
      "execution_count": 19,
      "metadata": {
        "tags": [
          "@solution"
        ],
        "colab": {
          "base_uri": "https://localhost:8080/"
        },
        "id": "k2GPGaitIuU4",
        "outputId": "8ff16236-a9c8-4adf-be1d-946622dd3ae8"
      },
      "outputs": [
        {
          "output_type": "stream",
          "name": "stdout",
          "text": [
            "0.07766387615350638\n"
          ]
        }
      ],
      "source": [
        "def P_lh(death_distribution_data, study_year = 1990): # sum over P_lh for each age group\n",
        "    \"\"\" Overall probability of being left-handed if you died in the study year\n",
        "    P_lh = P(LH | Age of death) P(Age of death) + P(LH | not A) P(not A) = sum over ages \n",
        "    Input: dataframe of death distribution data\n",
        "    Output: P(LH), a single floating point number \"\"\"\n",
        "    p_list = death_distribution_data['Both Sexes']*P_lh_given_A(death_distribution_data['Age'], study_year)\n",
        "    p = np.sum(p_list)\n",
        "    return p/np.sum(death_distribution_data['Both Sexes']) # normalize to total number of people in distribution\n",
        "\n",
        "print(P_lh(death_distribution_data))"
      ]
    },
    {
      "cell_type": "markdown",
      "metadata": {
        "tags": [
          "type:NotebookTask"
        ],
        "id": "x0i--cxPIuU6"
      },
      "source": [
        "**Putting it all together**\n",
        "\n",
        "\n",
        "\n",
        "\n",
        "\n",
        "\n"
      ]
    },
    {
      "cell_type": "markdown",
      "metadata": {
        "tags": [
          "@context"
        ],
        "id": "lpd8Np90IuU6"
      },
      "source": [
        "Now we have the means of calculating all three quantities we need: `P(A)`, `P(LH),` and `P(LH | A).` We can combine all three using Bayes' rule to get `P(A | LH)`.\n",
        "\n",
        "**We're calculating the following quantity twice, once for left-handers and once for right-handers.**\n",
        "\n",
        "$$P(A | LH) = \\frac{P(LH|A) P(A)}{P(LH)}$$\n",
        "\n",
        "\n",
        "First, for left-handers.\n"
      ]
    },
    {
      "cell_type": "code",
      "execution_count": 20,
      "metadata": {
        "tags": [
          "@solution"
        ],
        "id": "mtmPSL5PIuU8"
      },
      "outputs": [],
      "source": [
        "def P_A_given_lh(ages_of_death, death_distribution_data, study_year = 1990):\n",
        "    \"\"\" The overall probability of being a particular `age_of_death` given that you're left-handed \"\"\"\n",
        "    P_A = death_distribution_data['Both Sexes'][ages_of_death] / np.sum(death_distribution_data['Both Sexes'])\n",
        "    P_left = P_lh(death_distribution_data, study_year) # use P_lh function to get probability of left-handedness overall\n",
        "    P_lh_A = P_lh_given_A(ages_of_death, study_year) # use P_lh_given_A to get probability of left-handedness for a certain age\n",
        "    return P_lh_A*P_A/P_left"
      ]
    },
    {
      "cell_type": "markdown",
      "metadata": {
        "tags": [
          "type:NotebookTask"
        ],
        "id": "zgXO18i0IuU9"
      },
      "source": [
        "**Putting it all together**"
      ]
    },
    {
      "cell_type": "markdown",
      "metadata": {
        "tags": [
          "@context"
        ],
        "id": "bm8afRqxIuU9"
      },
      "source": [
        "And now for right-handers."
      ]
    },
    {
      "cell_type": "code",
      "execution_count": 21,
      "metadata": {
        "tags": [
          "@solution"
        ],
        "id": "4H9FsaeoIuU-"
      },
      "outputs": [],
      "source": [
        "def P_A_given_rh(ages_of_death, death_distribution_data, study_year = 1990):\n",
        "    \"\"\" The overall probability of being a particular `age_of_death` given that you're right-handed \"\"\"\n",
        "    P_A = death_distribution_data['Both Sexes'][ages_of_death] / np.sum(death_distribution_data['Both Sexes'])\n",
        "    P_right = 1- P_lh(death_distribution_data, study_year) # either you're left-handed or right-handed, so these sum to 1\n",
        "    P_rh_A = 1-P_lh_given_A(ages_of_death, study_year) # these also sum to 1 \n",
        "    return P_rh_A*P_A/P_right"
      ]
    },
    {
      "cell_type": "markdown",
      "metadata": {
        "tags": [
          "type:NotebookTask"
        ],
        "id": "OEJQswp6IuU_"
      },
      "source": [
        "#Plotting the distributions of conditional probabilities"
      ]
    },
    {
      "cell_type": "markdown",
      "metadata": {
        "tags": [
          "@context"
        ],
        "id": "U1YIFoRCIuU_"
      },
      "source": [
        "Now that we have functions to calculate the probability of being age A at death given that you're left-handed or right-handed, let's plot these probabilities for a range of ages of death from 6 to 120. \n",
        " "
      ]
    },
    {
      "cell_type": "code",
      "execution_count": 22,
      "metadata": {
        "tags": [
          "@solution"
        ],
        "colab": {
          "base_uri": "https://localhost:8080/",
          "height": 296
        },
        "id": "dm5MWNEHIuVA",
        "outputId": "14bf1198-be3d-41dd-879b-c652b49bb9dc"
      },
      "outputs": [
        {
          "output_type": "execute_result",
          "data": {
            "text/plain": [
              "Text(0, 0.5, 'Probability of being age A at death')"
            ]
          },
          "metadata": {},
          "execution_count": 22
        },
        {
          "output_type": "display_data",
          "data": {
            "text/plain": [
              "<Figure size 432x288 with 1 Axes>"
            ],
            "image/png": "[encoded data removed]"
          },
          "metadata": {
            "needs_background": "light"
          }
        }
      ],
      "source": [
        "ages = np.arange(6,115,1) # make a list of ages of death to plot\n",
        "\n",
        "# for each age, calculate the probability of being left- or right-handed\n",
        "left_handed_probability = P_A_given_lh(ages, death_distribution_data)\n",
        "right_handed_probability = P_A_given_rh(ages, death_distribution_data)\n",
        "\n",
        "fig, ax = plt.subplots() # create figure and axis objects\n",
        "ax.plot(ages, left_handed_probability, label = \"Left-handed\")\n",
        "ax.plot(ages, right_handed_probability, label = \"Right-handed\")\n",
        "ax.legend()\n",
        "ax.set_xlabel(\"Age at death\")\n",
        "ax.set_ylabel(r\"Probability of being age A at death\")"
      ]
    },
    {
      "cell_type": "markdown",
      "metadata": {
        "tags": [
          "type:NotebookTask"
        ],
        "id": "mrS7PzorIuVB"
      },
      "source": [
        "## Moment of truth: age of left and right-handers at death"
      ]
    },
    {
      "cell_type": "markdown",
      "metadata": {
        "tags": [
          "@context"
        ],
        "id": "sG_wZZL6IuVC"
      },
      "source": [
        "Finally, let's compare our results with the original study that found that left-handed people were nine years younger at death on average. We can do this by calculating the mean of these probability distributions in the same way we calculated `P(LH)` earlier, weighting the probability distribution by age and summing over the result.\n",
        "\n",
        "$$\\text{Average age of left-handed people at death} = \\sum_A A P(A | LH)$$\n",
        "\n",
        "$$\\text{Average age of right-handed people at death} = \\sum_A A P(A | RH)$$"
      ]
    },
    {
      "cell_type": "markdown",
      "metadata": {
        "tags": [
          "@instructions"
        ],
        "id": "RnJbJD9gIuVC"
      },
      "source": [
        "Find the mean age at death for left-handers and right-handers.\n",
        "- Multiply the `ages` list by the left-handed probabilities of being those ages at death, then use `np.nansum` to calculate the sum. Assign the result to `average_lh_age`.\n",
        "- Do the same with the right-handed probabilities to calculate `average_rh_age`.\n",
        "- Print `average_lh_age` and `average_rh_age`.\n",
        "- Calculate the difference between the two average ages and print it.\n",
        "\n",
        "\n"
      ]
    },
    {
      "cell_type": "markdown",
      "metadata": {
        "tags": [
          "@hint"
        ],
        "id": "_DN6rrdRIuVC"
      },
      "source": [
        "To calculate the average age of death for each group, multiply the list of `ages` by the list of probabilities stored in `left_handed_probability` and `right_handed_probability`. The result should be a single number. "
      ]
    },
    {
      "cell_type": "code",
      "execution_count": 23,
      "metadata": {
        "tags": [
          "@solution"
        ],
        "colab": {
          "base_uri": "https://localhost:8080/"
        },
        "id": "uxm6Cr2jIuVD",
        "outputId": "3340c3f0-0348-454e-bb6d-6fed5576814a"
      },
      "outputs": [
        {
          "output_type": "stream",
          "name": "stdout",
          "text": [
            "Average age of lefthanded: 67.25\n",
            "Average age of righthanded: 72.79\n",
            "The difference in average ages is: 5.55 years.\n"
          ]
        }
      ],
      "source": [
        "# calculate average ages for left-handed and right-handed groups\n",
        "# use np.array so that two arrays can be multiplied\n",
        "average_lh_age =  np.nansum(ages*np.array(left_handed_probability))\n",
        "average_rh_age =  np.nansum(ages*np.array(right_handed_probability))\n",
        "\n",
        "# print the average ages for each group\n",
        "print(\"Average age of lefthanded: \"+ str(round(average_lh_age,2)))\n",
        "print(\"Average age of righthanded: \" + str(round(average_rh_age,2)))\n",
        "\n",
        "# print the difference between the average ages\n",
        "print(\"The difference in average ages is: \" + str(round(average_rh_age - average_lh_age, 2)) + \" years.\")"
      ]
    },
    {
      "cell_type": "markdown",
      "metadata": {
        "tags": [
          "type:NotebookTask"
        ],
        "id": "VFj7HVIjIuVD"
      },
      "source": [
        "## Final comments"
      ]
    },
    {
      "cell_type": "markdown",
      "metadata": {
        "tags": [
          "@context"
        ],
        "id": "DG49MkuRIuVE"
      },
      "source": [
        " The reported rates of left-handedness have increased from just **3%** in the early 1900s to about **11%** today, which means that older people are much more likely to be reported as right-handed than left-handed, and so looking at a sample of recently deceased people will have more old right-handers.\n",
        "\n",
        "Our number is still less than the 9-year gap measured in the study. It's possible that some of the approximations we made are the cause: \n",
        "\n",
        "1. We used death distribution data from almost ten years after the study (1999 instead of 1991), and we used death data from the entire United States instead of California alone (which was the original study). \n",
        "2. We extrapolated the left-handedness survey results to older and younger age groups, but it's possible our extrapolation wasn't close enough to the true rates for those ages. \n",
        "\n",
        "One thing we could do next is figure out how much variability we would expect to encounter in the age difference purely because of random sampling:\n",
        "\n",
        "\n",
        "**To finish off, let's calculate the age gap we'd expect if we did the study in 2021 instead of in 1990.** "
      ]
    },
    {
      "cell_type": "markdown",
      "metadata": {
        "tags": [
          "@instructions"
        ],
        "id": "z43AUPp4IuVE"
      },
      "source": [
        "Redo the calculation from Task 8, setting the `study_year` parameter to 2021.\n",
        "- In the call to `P_A_given_lh`, set `age_of_death` to `ages`, `death_distribution_data` to `death_distribution_data`, and `study_year` to 2021.\n",
        "- Do the same for `P_A_given_rh`.\n",
        "\n"
      ]
    },
    {
      "cell_type": "code",
      "execution_count": 25,
      "metadata": {
        "tags": [
          "@solution"
        ],
        "colab": {
          "base_uri": "https://localhost:8080/"
        },
        "id": "j41A9njzIuVF",
        "outputId": "7c19bce4-e326-4482-98c2-b4d136da88cd"
      },
      "outputs": [
        {
          "output_type": "stream",
          "name": "stdout",
          "text": [
            "The difference in average ages is 1.9 years.\n"
          ]
        }
      ],
      "source": [
        "# loop through ages, calculating the probability of being left- or right-handed\n",
        "left_handed_probability_2021 = P_A_given_lh(ages, death_distribution_data, study_year = 2021)\n",
        "right_handed_probability_2021 = P_A_given_rh(ages, death_distribution_data, study_year = 2021)\n",
        "    \n",
        "# calculate average ages for left-handed and right-handed groups\n",
        "average_lh_age_2021 =  np.nansum(ages*np.array(left_handed_probability_2021))\n",
        "average_rh_age_2021 =  np.nansum(ages*np.array(right_handed_probability_2021))\n",
        "\n",
        "print(\"The difference in average ages is \" + \n",
        "      str(round(average_rh_age_2021 - average_lh_age_2021, 1)) + \" years.\")"
      ]
    },
    {
      "cell_type": "markdown",
      "source": [
        "#Conclusion"
      ],
      "metadata": {
        "id": "mt90tD96DIqj"
      }
    },
    {
      "cell_type": "markdown",
      "source": [
        "The gap turns out to be much smaller since rates of left-handedness haven't increased for people born after about 1960. Both the National Geographic study and the 1990 study happened at a unique time - the rates of left-handedness had been changing across the lifetimes of most people alive, and the difference in handedness between old and young was at its most striking. "
      ],
      "metadata": {
        "id": "qK0JT5MsC8u_"
      }
    }
  ],
  "metadata": {
    "celltoolbar": "Tags",
    "kernelspec": {
      "display_name": "Python 3",
      "language": "python",
      "name": "python3"
    },
    "language_info": {
      "codemirror_mode": {
        "name": "ipython",
        "version": 3
      },
      "file_extension": ".py",
      "mimetype": "text/x-python",
      "name": "python",
      "nbconvert_exporter": "python",
      "pygments_lexer": "ipython3",
      "version": "3.6.0"
    },
    "colab": {
      "provenance": []
    }
  },
  "nbformat": 4,
  "nbformat_minor": 0
}